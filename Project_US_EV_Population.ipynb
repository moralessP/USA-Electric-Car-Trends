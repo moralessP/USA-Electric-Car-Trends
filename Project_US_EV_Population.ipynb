{
  "cells": [
    {
      "cell_type": "markdown",
      "id": "42d85123-e033-432b-9a55-258554ed78b4",
      "metadata": {
        "id": "42d85123-e033-432b-9a55-258554ed78b4"
      },
      "source": [
        "# PROJECT EV Population in the US\n",
        "\n",
        "Our project, 'USA Electric Car Trends,' focuses on understanding and predicting the use of electric cars in the United States. We'll use machine learning to study how electric cars are distributed across the country. By looking at factors like where people live, the types of electric cars they use, and government incentives, we aim to give insights into how electric cars are growing in popularity. This research can help with future planning and decisions on electric cars in the USA.\n"
      ]
    },
    {
      "cell_type": "markdown",
      "id": "53b1811e-c454-47ce-bd78-5fd65e8da0e2",
      "metadata": {
        "id": "53b1811e-c454-47ce-bd78-5fd65e8da0e2"
      },
      "source": [
        "Author 1: Kamel Lehmoudi, up202301437 <br>\n",
        "Author 2: Moraless Philius, up202302762"
      ]
    },
    {
      "cell_type": "markdown",
      "id": "ec46389d",
      "metadata": {
        "id": "ec46389d"
      },
      "source": [
        "TITLE"
      ]
    },
    {
      "cell_type": "markdown",
      "id": "4d4a9601-9583-4b3b-8c69-03ed63cb4e6d",
      "metadata": {
        "id": "4d4a9601-9583-4b3b-8c69-03ed63cb4e6d"
      },
      "source": [
        "EV Population US"
      ]
    },
    {
      "cell_type": "markdown",
      "id": "9aYs1sVxitgS",
      "metadata": {
        "id": "9aYs1sVxitgS"
      },
      "source": [
        "Charging Station Placement Optimization:\n",
        "\n",
        "Objective: Predict the demand for electric vehicle charging stations in different locations based on factors such as city, state, and postal code.\n"
      ]
    },
    {
      "cell_type": "markdown",
      "id": "f67c67aa",
      "metadata": {},
      "source": [
        "## Library"
      ]
    },
    {
      "cell_type": "code",
      "execution_count": 33,
      "id": "673fc5a6",
      "metadata": {},
      "outputs": [],
      "source": [
        "import numpy as np\n",
        "import pandas as pd\n",
        "import matplotlib.pyplot as plt\n",
        "from sklearn.model_selection import train_test_split\n",
        "from sklearn.preprocessing import OneHotEncoder, LabelEncoder"
      ]
    },
    {
      "cell_type": "markdown",
      "id": "791fa595",
      "metadata": {},
      "source": [
        "# Preprocessing"
      ]
    },
    {
      "cell_type": "code",
      "execution_count": 54,
      "id": "0484ebfe",
      "metadata": {},
      "outputs": [],
      "source": [
        "df = pd.read_csv(\"Data/Electric_Vehicle_Population_Data.csv\", delimiter=\";\")"
      ]
    },
    {
      "cell_type": "code",
      "execution_count": 55,
      "id": "4a26c721",
      "metadata": {},
      "outputs": [
        {
          "data": {
            "text/html": [
              "<div>\n",
              "<style scoped>\n",
              "    .dataframe tbody tr th:only-of-type {\n",
              "        vertical-align: middle;\n",
              "    }\n",
              "\n",
              "    .dataframe tbody tr th {\n",
              "        vertical-align: top;\n",
              "    }\n",
              "\n",
              "    .dataframe thead th {\n",
              "        text-align: right;\n",
              "    }\n",
              "</style>\n",
              "<table border=\"1\" class=\"dataframe\">\n",
              "  <thead>\n",
              "    <tr style=\"text-align: right;\">\n",
              "      <th></th>\n",
              "      <th>VIN (1-10)</th>\n",
              "      <th>County</th>\n",
              "      <th>City</th>\n",
              "      <th>State</th>\n",
              "      <th>Postal Code</th>\n",
              "      <th>Model Year</th>\n",
              "      <th>Make</th>\n",
              "      <th>Model</th>\n",
              "      <th>Electric Vehicle Type</th>\n",
              "      <th>Clean Alternative Fuel Vehicle (CAFV) Eligibility</th>\n",
              "      <th>Electric Range</th>\n",
              "      <th>Base MSRP</th>\n",
              "      <th>Legislative District</th>\n",
              "      <th>DOL Vehicle ID</th>\n",
              "      <th>Vehicle Location</th>\n",
              "      <th>Electric Utility</th>\n",
              "      <th>2020 Census Tract</th>\n",
              "    </tr>\n",
              "  </thead>\n",
              "  <tbody>\n",
              "    <tr>\n",
              "      <th>0</th>\n",
              "      <td>KM8K33AGXL</td>\n",
              "      <td>King</td>\n",
              "      <td>Seattle</td>\n",
              "      <td>WA</td>\n",
              "      <td>98103</td>\n",
              "      <td>2020</td>\n",
              "      <td>HYUNDAI</td>\n",
              "      <td>KONA</td>\n",
              "      <td>Battery Electric Vehicle (BEV)</td>\n",
              "      <td>Clean Alternative Fuel Vehicle Eligible</td>\n",
              "      <td>258</td>\n",
              "      <td>0</td>\n",
              "      <td>43</td>\n",
              "      <td>249675142</td>\n",
              "      <td>POINT (-122.34301 47.659185)</td>\n",
              "      <td>CITY OF SEATTLE - (WA)|CITY OF TACOMA - (WA)</td>\n",
              "      <td>53033004800</td>\n",
              "    </tr>\n",
              "    <tr>\n",
              "      <th>1</th>\n",
              "      <td>1C4RJYB61N</td>\n",
              "      <td>King</td>\n",
              "      <td>Bothell</td>\n",
              "      <td>WA</td>\n",
              "      <td>98011</td>\n",
              "      <td>2022</td>\n",
              "      <td>JEEP</td>\n",
              "      <td>GRAND CHEROKEE</td>\n",
              "      <td>Plug-in Hybrid Electric Vehicle (PHEV)</td>\n",
              "      <td>Not eligible due to low battery range</td>\n",
              "      <td>25</td>\n",
              "      <td>0</td>\n",
              "      <td>1</td>\n",
              "      <td>233928502</td>\n",
              "      <td>POINT (-122.20578 47.762405)</td>\n",
              "      <td>PUGET SOUND ENERGY INC||CITY OF TACOMA - (WA)</td>\n",
              "      <td>53033021804</td>\n",
              "    </tr>\n",
              "    <tr>\n",
              "      <th>2</th>\n",
              "      <td>1C4RJYD61P</td>\n",
              "      <td>Yakima</td>\n",
              "      <td>Yakima</td>\n",
              "      <td>WA</td>\n",
              "      <td>98908</td>\n",
              "      <td>2023</td>\n",
              "      <td>JEEP</td>\n",
              "      <td>GRAND CHEROKEE</td>\n",
              "      <td>Plug-in Hybrid Electric Vehicle (PHEV)</td>\n",
              "      <td>Not eligible due to low battery range</td>\n",
              "      <td>25</td>\n",
              "      <td>0</td>\n",
              "      <td>14</td>\n",
              "      <td>229675939</td>\n",
              "      <td>POINT (-120.6027202 46.5965625)</td>\n",
              "      <td>PACIFICORP</td>\n",
              "      <td>53077002900</td>\n",
              "    </tr>\n",
              "  </tbody>\n",
              "</table>\n",
              "</div>"
            ],
            "text/plain": [
              "   VIN (1-10)  County     City State  Postal Code  Model Year     Make  \\\n",
              "0  KM8K33AGXL    King  Seattle    WA        98103        2020  HYUNDAI   \n",
              "1  1C4RJYB61N    King  Bothell    WA        98011        2022     JEEP   \n",
              "2  1C4RJYD61P  Yakima   Yakima    WA        98908        2023     JEEP   \n",
              "\n",
              "            Model                   Electric Vehicle Type  \\\n",
              "0            KONA          Battery Electric Vehicle (BEV)   \n",
              "1  GRAND CHEROKEE  Plug-in Hybrid Electric Vehicle (PHEV)   \n",
              "2  GRAND CHEROKEE  Plug-in Hybrid Electric Vehicle (PHEV)   \n",
              "\n",
              "  Clean Alternative Fuel Vehicle (CAFV) Eligibility  Electric Range  \\\n",
              "0           Clean Alternative Fuel Vehicle Eligible             258   \n",
              "1             Not eligible due to low battery range              25   \n",
              "2             Not eligible due to low battery range              25   \n",
              "\n",
              "   Base MSRP  Legislative District  DOL Vehicle ID  \\\n",
              "0          0                    43       249675142   \n",
              "1          0                     1       233928502   \n",
              "2          0                    14       229675939   \n",
              "\n",
              "                  Vehicle Location  \\\n",
              "0     POINT (-122.34301 47.659185)   \n",
              "1     POINT (-122.20578 47.762405)   \n",
              "2  POINT (-120.6027202 46.5965625)   \n",
              "\n",
              "                                Electric Utility  2020 Census Tract  \n",
              "0   CITY OF SEATTLE - (WA)|CITY OF TACOMA - (WA)        53033004800  \n",
              "1  PUGET SOUND ENERGY INC||CITY OF TACOMA - (WA)        53033021804  \n",
              "2                                     PACIFICORP        53077002900  "
            ]
          },
          "execution_count": 55,
          "metadata": {},
          "output_type": "execute_result"
        }
      ],
      "source": [
        "df.head(3)"
      ]
    },
    {
      "cell_type": "code",
      "execution_count": 56,
      "id": "a63cd510",
      "metadata": {},
      "outputs": [
        {
          "name": "stdout",
          "output_type": "stream",
          "text": [
            "<class 'pandas.core.frame.DataFrame'>\n",
            "RangeIndex: 1999 entries, 0 to 1998\n",
            "Data columns (total 17 columns):\n",
            " #   Column                                             Non-Null Count  Dtype \n",
            "---  ------                                             --------------  ----- \n",
            " 0   VIN (1-10)                                         1999 non-null   object\n",
            " 1   County                                             1999 non-null   object\n",
            " 2   City                                               1999 non-null   object\n",
            " 3   State                                              1999 non-null   object\n",
            " 4   Postal Code                                        1999 non-null   int64 \n",
            " 5   Model Year                                         1999 non-null   int64 \n",
            " 6   Make                                               1999 non-null   object\n",
            " 7   Model                                              1999 non-null   object\n",
            " 8   Electric Vehicle Type                              1999 non-null   object\n",
            " 9   Clean Alternative Fuel Vehicle (CAFV) Eligibility  1999 non-null   object\n",
            " 10  Electric Range                                     1999 non-null   int64 \n",
            " 11  Base MSRP                                          1999 non-null   int64 \n",
            " 12  Legislative District                               1999 non-null   int64 \n",
            " 13  DOL Vehicle ID                                     1999 non-null   int64 \n",
            " 14  Vehicle Location                                   1999 non-null   object\n",
            " 15  Electric Utility                                   1999 non-null   object\n",
            " 16  2020 Census Tract                                  1999 non-null   int64 \n",
            "dtypes: int64(7), object(10)\n",
            "memory usage: 265.6+ KB\n"
          ]
        }
      ],
      "source": [
        "df.info()"
      ]
    },
    {
      "cell_type": "code",
      "execution_count": 57,
      "id": "176b2eff",
      "metadata": {},
      "outputs": [
        {
          "data": {
            "text/plain": [
              "VIN (1-10)                                           0\n",
              "County                                               0\n",
              "City                                                 0\n",
              "State                                                0\n",
              "Postal Code                                          0\n",
              "Model Year                                           0\n",
              "Make                                                 0\n",
              "Model                                                0\n",
              "Electric Vehicle Type                                0\n",
              "Clean Alternative Fuel Vehicle (CAFV) Eligibility    0\n",
              "Electric Range                                       0\n",
              "Base MSRP                                            0\n",
              "Legislative District                                 0\n",
              "DOL Vehicle ID                                       0\n",
              "Vehicle Location                                     0\n",
              "Electric Utility                                     0\n",
              "2020 Census Tract                                    0\n",
              "dtype: int64"
            ]
          },
          "execution_count": 57,
          "metadata": {},
          "output_type": "execute_result"
        }
      ],
      "source": [
        "df.isnull().sum()"
      ]
    },
    {
      "cell_type": "code",
      "execution_count": 59,
      "id": "8bffc8ff",
      "metadata": {},
      "outputs": [
        {
          "name": "stdout",
          "output_type": "stream",
          "text": [
            "shape of the training data set : (1499, 17)\n",
            "shape of the test data set : (500, 17)\n"
          ]
        }
      ],
      "source": [
        "# DO NOT RUN \n",
        "train_df, test_df = train_test_split(df, test_size=0.25, random_state=42)\n",
        "train_df.to_csv(\"Data/train_dataset.csv\", index=False)\n",
        "test_df.to_csv(\"Data/test_dataset.csv\", index=False)\n",
        "print(f\"shape of the training data set : {train_df.shape}\")\n",
        "print(f\"shape of the test data set : {test_df.shape}\")"
      ]
    },
    {
      "cell_type": "code",
      "execution_count": 1,
      "id": "NE2wKABain8O",
      "metadata": {
        "colab": {
          "base_uri": "https://localhost:8080/",
          "height": 390
        },
        "id": "NE2wKABain8O",
        "outputId": "443eedc2-cacb-476b-f7e7-1daab715d2db"
      },
      "outputs": [
        {
          "name": "stdout",
          "output_type": "stream",
          "text": [
            "features\n",
            "[['Seattle' 'WA' '98103' '258']\n",
            " ['Bothell' 'WA' '98011' '25']\n",
            " ['Yakima' 'WA' '98908' '25']\n",
            " ...\n",
            " ['Bellevue' 'WA' '98004' '208']\n",
            " ['Kent' 'WA' '98031' '0']\n",
            " ['Kent' 'WA' '98042' '0']]\n"
          ]
        }
      ],
      "source": [
        "import numpy as np\n",
        "#Normalise the data :\n",
        "import csv\n",
        "\n",
        "# Load the data using np.genfromtxt\n",
        "data = np.genfromtxt('Data/Electric_Vehicle_Population_Data3.csv', delimiter=';', dtype=str, skip_header=1)\n",
        "\n",
        "# Extracting relevant columns\n",
        "city = data[:, 2]\n",
        "state = data[:, 3]\n",
        "postal_code = data[:, 4]\n",
        "electric_range = data[:, 10] #.astype(float)\n",
        "\n",
        "\n",
        "# Combine extracted features into a feature matrix\n",
        "features = np.column_stack((city, state, postal_code, electric_range))\n",
        "print(\"features\")\n",
        "print(features)"
      ]
    },
    {
      "cell_type": "markdown",
      "id": "chhRFfop9ly1",
      "metadata": {
        "id": "chhRFfop9ly1"
      },
      "source": [
        "\n",
        "-Predictive Model for Electric Range:\n",
        " Objective: Build a model to predict the electric range of vehicles based on features like model year, brand, and electric vehicle type.\n",
        ":\n"
      ]
    },
    {
      "cell_type": "code",
      "execution_count": null,
      "id": "GUMSMpeI-SCA",
      "metadata": {
        "colab": {
          "base_uri": "https://localhost:8080/",
          "height": 854
        },
        "id": "GUMSMpeI-SCA",
        "outputId": "d36a2332-961d-4a7c-b063-f2b9b7e88394"
      },
      "outputs": [],
      "source": [
        "import numpy as np\n",
        "#Normalise the data :\n",
        "import csv\n",
        "from sklearn.model_selection import train_test_split\n",
        "from sklearn.linear_model import LinearRegression\n",
        "from sklearn.preprocessing import OneHotEncoder, LabelEncoder\n",
        "from sklearn.compose import ColumnTransformer\n",
        "from sklearn.metrics import mean_squared_error\n",
        "from sklearn.pipeline import Pipeline\n",
        "\n",
        "# Load the data using np.genfromtxt\n",
        "data = np.genfromtxt('Data/Electric_Vehicle_Population_Data3.csv', delimiter=';', dtype=str, skip_header=1)\n",
        "\n",
        "# Extracting relevant columns\n",
        "model_year = data[:,5]\n",
        "brand = data[:, 6]\n",
        "vehicle_type = data[:, 8]\n",
        "electric_range1 = data[:, 10].astype(float)\n",
        "\n",
        "\n",
        "# Combine extracted features into a feature matrix\n",
        "#features = np.column_stack((model_year, brand, vehicle_type, electric_range1))\n",
        "#print(\"features\")\n",
        "#print(features)\n",
        "\n",
        "# Encoding categorical variables: Brand and Vehicle Type\n",
        "label_encoder_brand = LabelEncoder()\n",
        "label_encoder_type = LabelEncoder()\n",
        "\n",
        "brand_encoded = label_encoder_brand.fit_transform(brand)\n",
        "type_encoded = label_encoder_type.fit_transform(vehicle_type)\n",
        "\n",
        "# Combine extracted features into a feature matrix\n",
        "features_encoded = np.column_stack((model_year, brand_encoded, type_encoded, electric_range))\n",
        "\n",
        "# Splitting features and target variable\n",
        "X = features_encoded[:, :-1].astype(float)\n",
        "y = features_encoded[:, -1].astype(float)\n",
        "\n",
        "# Splitting data into training and testing sets\n",
        "X_train, X_test, y_train, y_test = train_test_split(X, y, test_size=0.2, random_state=42)\n",
        "\n",
        "# Preprocessing categorical columns using OneHotEncoder\n",
        "preprocessor = ColumnTransformer(\n",
        "    transformers=[\n",
        "        ('cat', OneHotEncoder(handle_unknown='ignore'), [1, 2])  # Encodes brand and vehicle type\n",
        "    ],\n",
        "    remainder='passthrough'\n",
        ")\n",
        "\n",
        "# Linear Regression model in a pipeline with OneHotEncoder for categorical columns\n",
        "pipeline = Pipeline(steps=[\n",
        "    ('preprocessor', preprocessor),\n",
        "    ('model', LinearRegression())\n",
        "])\n",
        "\n",
        "# Fitting the model\n",
        "pipeline.fit(X_train, y_train)\n",
        "print(\"X_test\")\n",
        "print(X_test)\n",
        "# Predicting on the test set\n",
        "y_pred = pipeline.predict(X_test)\n",
        "\n",
        "# Evaluating model performance using Mean Squared Error (MSE)\n",
        "mse = mean_squared_error(y_test, y_pred)\n",
        "print(f\"Mean Squared Error: {mse}\")\n",
        "\n",
        "import matplotlib.pyplot as plt\n",
        "# Plotting graph for predicted vs. actual electric range colored by brand\n",
        "plt.figure(figsize=(10, 6))\n",
        "i=0\n",
        "\n",
        "unique_brands = np.unique(brand)\n",
        "for b in unique_brands:\n",
        "     i=i+1\n",
        "     plt.scatter(y_test[i], y_pred[i], label=b, alpha=0.6)\n",
        "\n",
        "plt.plot([y.min(), y.max()], [y.min(), y.max()], 'k--', lw=2)\n",
        "plt.xlabel('Actual Electric Range')\n",
        "plt.ylabel('Predicted Electric Range')\n",
        "plt.title('Actual vs. Predicted Electric Range by Brand')\n",
        "plt.legend()\n",
        "plt.grid()\n",
        "plt.show()"
      ]
    },
    {
      "cell_type": "markdown",
      "id": "HwT2yBh29vp3",
      "metadata": {
        "id": "HwT2yBh29vp3"
      },
      "source": [
        "-Electric Vehicle Adoption Prediction:\n",
        "Objective: Use historical data to predict the future adoption and growth of electric vehicles in different states or counties.*italicised text*\n"
      ]
    },
    {
      "cell_type": "markdown",
      "id": "XTyK_1ec91VT",
      "metadata": {
        "id": "XTyK_1ec91VT"
      },
      "source": [
        "-Geospatial Analysis of Electric Vehicle Distribution:  \n",
        "Objective: Visualize and analyze the geographic distribution of electric vehicles across different counties or cities."
      ]
    },
    {
      "cell_type": "markdown",
      "id": "vBtgPBO6-HTx",
      "metadata": {
        "id": "vBtgPBO6-HTx"
      },
      "source": [
        "-Price Prediction Model:\n",
        " Objective: Predict the base MSRP of electric vehicles based on features like brand, model, and model year.\n",
        "\n"
      ]
    },
    {
      "cell_type": "markdown",
      "id": "zrzvY-s6-Hld",
      "metadata": {
        "id": "zrzvY-s6-Hld"
      },
      "source": [
        "-Customer Segmentation for Electric Vehicles:\n",
        "Objective: Segment electric vehicle customers based on demographic features to tailor marketing strategies and services.\n",
        "we can use the model year,the range, type of vehicule,make (brand) ,"
      ]
    },
    {
      "cell_type": "code",
      "execution_count": null,
      "id": "pLXtCaKxS8FF",
      "metadata": {
        "colab": {
          "base_uri": "https://localhost:8080/",
          "height": 746
        },
        "id": "pLXtCaKxS8FF",
        "outputId": "9a818b81-3f79-44f0-e28b-f44d175b936a"
      },
      "outputs": [],
      "source": [
        "import numpy as np\n",
        "#data normalised :\n",
        "import csv\n",
        "\n",
        "# Load the data using np.genfromtxt\n",
        "data = np.genfromtxt('Data/Electric_Vehicle_Population_Data3.csv', delimiter=';', dtype=str, skip_header=1)\n",
        "\n",
        "# Extracting relevant columns\n",
        "year2 = data[:, 5]\n",
        "electric_range2 = data[:, 10]\n",
        "vehicle_type2 = data[:, 8]\n",
        "brand2 = data[:, 6] #.astype(float)\n",
        "\n",
        "\n",
        "# Combine extracted features into a feature matrix\n",
        "features2 = np.column_stack((year2,brand2, vehicle_type2, electric_range2))\n",
        "print(\"features\")\n",
        "print(features)\n",
        "\n",
        "# Extract the unique brands and their counts\n",
        "unique_brands, brand_counts = np.unique(brand2, return_counts=True)\n",
        "\n",
        "# Plotting a bar diagram for brand counts\n",
        "plt.figure(figsize=(10, 6))\n",
        "plt.bar(unique_brands, brand_counts, color='skyblue')\n",
        "plt.xlabel('Brands')\n",
        "plt.ylabel('Number of Vehicles')\n",
        "plt.title('Number of Vehicles per Brand')\n",
        "plt.xticks(rotation=90)  # Rotate x-axis labels for better readability\n",
        "plt.tight_layout()\n",
        "plt.show()\n",
        "\n",
        "\n"
      ]
    }
  ],
  "metadata": {
    "colab": {
      "provenance": []
    },
    "kernelspec": {
      "display_name": "Python 3 (ipykernel)",
      "language": "python",
      "name": "python3"
    },
    "language_info": {
      "codemirror_mode": {
        "name": "ipython",
        "version": 3
      },
      "file_extension": ".py",
      "mimetype": "text/x-python",
      "name": "python",
      "nbconvert_exporter": "python",
      "pygments_lexer": "ipython3",
      "version": "3.11.7"
    }
  },
  "nbformat": 4,
  "nbformat_minor": 5
}
