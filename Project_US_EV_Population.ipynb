{
  "cells": [
    {
      "cell_type": "markdown",
      "id": "42d85123-e033-432b-9a55-258554ed78b4",
      "metadata": {
        "id": "42d85123-e033-432b-9a55-258554ed78b4"
      },
      "source": [
        "# PROJECT EV Population in the US\n",
        "\n",
        "Our project, 'USA Electric Car Trends,' focuses on understanding and predicting the use of electric cars in the United States. We'll use machine learning to study how electric cars are distributed across the country. By looking at factors like where people live, the types of electric cars they use, and government incentives, we aim to give insights into how electric cars are growing in popularity. This research can help with future planning and decisions on electric cars in the USA.\n"
      ]
    },
    {
      "cell_type": "markdown",
      "id": "53b1811e-c454-47ce-bd78-5fd65e8da0e2",
      "metadata": {
        "id": "53b1811e-c454-47ce-bd78-5fd65e8da0e2"
      },
      "source": [
        "Author 1: Lehmoudi Kamel, up202301437\n",
        "Author 2: Name, UP number\n",
        "Author 3: Name, UP number"
      ]
    },
    {
      "cell_type": "markdown",
      "id": "ec46389d",
      "metadata": {
        "id": "ec46389d"
      },
      "source": [
        "TITLE"
      ]
    },
    {
      "cell_type": "markdown",
      "id": "4d4a9601-9583-4b3b-8c69-03ed63cb4e6d",
      "metadata": {
        "id": "4d4a9601-9583-4b3b-8c69-03ed63cb4e6d"
      },
      "source": [
        "EV Population US"
      ]
    },
    {
      "cell_type": "markdown",
      "id": "9aYs1sVxitgS",
      "metadata": {
        "id": "9aYs1sVxitgS"
      },
      "source": [
        "Charging Station Placement Optimization:\n",
        "\n",
        "Objective: Predict the demand for electric vehicle charging stations in different locations based on factors such as city, state, and postal code.\n"
      ]
    },
    {
      "cell_type": "code",
      "execution_count": 1,
      "id": "NE2wKABain8O",
      "metadata": {
        "colab": {
          "base_uri": "https://localhost:8080/",
          "height": 390
        },
        "id": "NE2wKABain8O",
        "outputId": "443eedc2-cacb-476b-f7e7-1daab715d2db"
      },
      "outputs": [
        {
          "name": "stdout",
          "output_type": "stream",
          "text": [
            "features\n",
            "[['Seattle' 'WA' '98103' '258']\n",
            " ['Bothell' 'WA' '98011' '25']\n",
            " ['Yakima' 'WA' '98908' '25']\n",
            " ...\n",
            " ['Bellevue' 'WA' '98004' '208']\n",
            " ['Kent' 'WA' '98031' '0']\n",
            " ['Kent' 'WA' '98042' '0']]\n"
          ]
        }
      ],
      "source": [
        "import numpy as np\n",
        "#Normalise the data :\n",
        "import csv\n",
        "\n",
        "# Load the data using np.genfromtxt\n",
        "data = np.genfromtxt('Data/Electric_Vehicle_Population_Data3.csv', delimiter=';', dtype=str, skip_header=1)\n",
        "\n",
        "# Extracting relevant columns\n",
        "city = data[:, 2]\n",
        "state = data[:, 3]\n",
        "postal_code = data[:, 4]\n",
        "electric_range = data[:, 10] #.astype(float)\n",
        "\n",
        "\n",
        "# Combine extracted features into a feature matrix\n",
        "features = np.column_stack((city, state, postal_code, electric_range))\n",
        "print(\"features\")\n",
        "print(features)\n",
        "\n"
      ]
    },
    {
      "cell_type": "markdown",
      "id": "chhRFfop9ly1",
      "metadata": {
        "id": "chhRFfop9ly1"
      },
      "source": [
        "\n",
        "-Predictive Model for Electric Range:\n",
        " Objective: Build a model to predict the electric range of vehicles based on features like model year, brand, and electric vehicle type.\n",
        ":\n"
      ]
    },
    {
      "cell_type": "code",
      "execution_count": null,
      "id": "GUMSMpeI-SCA",
      "metadata": {
        "colab": {
          "base_uri": "https://localhost:8080/",
          "height": 854
        },
        "id": "GUMSMpeI-SCA",
        "outputId": "d36a2332-961d-4a7c-b063-f2b9b7e88394"
      },
      "outputs": [],
      "source": [
        "import numpy as np\n",
        "#Normalise the data :\n",
        "import csv\n",
        "from sklearn.model_selection import train_test_split\n",
        "from sklearn.linear_model import LinearRegression\n",
        "from sklearn.preprocessing import OneHotEncoder, LabelEncoder\n",
        "from sklearn.compose import ColumnTransformer\n",
        "from sklearn.metrics import mean_squared_error\n",
        "from sklearn.pipeline import Pipeline\n",
        "\n",
        "# Load the data using np.genfromtxt\n",
        "data = np.genfromtxt('Data/Electric_Vehicle_Population_Data3.csv', delimiter=';', dtype=str, skip_header=1)\n",
        "\n",
        "# Extracting relevant columns\n",
        "model_year = data[:,5]\n",
        "brand = data[:, 6]\n",
        "vehicle_type = data[:, 8]\n",
        "electric_range1 = data[:, 10].astype(float)\n",
        "\n",
        "\n",
        "# Combine extracted features into a feature matrix\n",
        "#features = np.column_stack((model_year, brand, vehicle_type, electric_range1))\n",
        "#print(\"features\")\n",
        "#print(features)\n",
        "\n",
        "# Encoding categorical variables: Brand and Vehicle Type\n",
        "label_encoder_brand = LabelEncoder()\n",
        "label_encoder_type = LabelEncoder()\n",
        "\n",
        "brand_encoded = label_encoder_brand.fit_transform(brand)\n",
        "type_encoded = label_encoder_type.fit_transform(vehicle_type)\n",
        "\n",
        "# Combine extracted features into a feature matrix\n",
        "features_encoded = np.column_stack((model_year, brand_encoded, type_encoded, electric_range))\n",
        "\n",
        "# Splitting features and target variable\n",
        "X = features_encoded[:, :-1].astype(float)\n",
        "y = features_encoded[:, -1].astype(float)\n",
        "\n",
        "# Splitting data into training and testing sets\n",
        "X_train, X_test, y_train, y_test = train_test_split(X, y, test_size=0.2, random_state=42)\n",
        "\n",
        "# Preprocessing categorical columns using OneHotEncoder\n",
        "preprocessor = ColumnTransformer(\n",
        "    transformers=[\n",
        "        ('cat', OneHotEncoder(handle_unknown='ignore'), [1, 2])  # Encodes brand and vehicle type\n",
        "    ],\n",
        "    remainder='passthrough'\n",
        ")\n",
        "\n",
        "# Linear Regression model in a pipeline with OneHotEncoder for categorical columns\n",
        "pipeline = Pipeline(steps=[\n",
        "    ('preprocessor', preprocessor),\n",
        "    ('model', LinearRegression())\n",
        "])\n",
        "\n",
        "# Fitting the model\n",
        "pipeline.fit(X_train, y_train)\n",
        "print(\"X_test\")\n",
        "print(X_test)\n",
        "# Predicting on the test set\n",
        "y_pred = pipeline.predict(X_test)\n",
        "\n",
        "# Evaluating model performance using Mean Squared Error (MSE)\n",
        "mse = mean_squared_error(y_test, y_pred)\n",
        "print(f\"Mean Squared Error: {mse}\")\n",
        "\n",
        "import matplotlib.pyplot as plt\n",
        "# Plotting graph for predicted vs. actual electric range colored by brand\n",
        "plt.figure(figsize=(10, 6))\n",
        "i=0\n",
        "\n",
        "unique_brands = np.unique(brand)\n",
        "for b in unique_brands:\n",
        "     i=i+1\n",
        "     plt.scatter(y_test[i], y_pred[i], label=b, alpha=0.6)\n",
        "\n",
        "plt.plot([y.min(), y.max()], [y.min(), y.max()], 'k--', lw=2)\n",
        "plt.xlabel('Actual Electric Range')\n",
        "plt.ylabel('Predicted Electric Range')\n",
        "plt.title('Actual vs. Predicted Electric Range by Brand')\n",
        "plt.legend()\n",
        "plt.grid()\n",
        "plt.show()"
      ]
    },
    {
      "cell_type": "markdown",
      "id": "HwT2yBh29vp3",
      "metadata": {
        "id": "HwT2yBh29vp3"
      },
      "source": [
        "-Electric Vehicle Adoption Prediction:\n",
        "Objective: Use historical data to predict the future adoption and growth of electric vehicles in different states or counties.*italicised text*\n"
      ]
    },
    {
      "cell_type": "markdown",
      "id": "XTyK_1ec91VT",
      "metadata": {
        "id": "XTyK_1ec91VT"
      },
      "source": [
        "-Geospatial Analysis of Electric Vehicle Distribution:  \n",
        "Objective: Visualize and analyze the geographic distribution of electric vehicles across different counties or cities."
      ]
    },
    {
      "cell_type": "markdown",
      "id": "vBtgPBO6-HTx",
      "metadata": {
        "id": "vBtgPBO6-HTx"
      },
      "source": [
        "-Price Prediction Model:\n",
        " Objective: Predict the base MSRP of electric vehicles based on features like brand, model, and model year.\n",
        "\n"
      ]
    },
    {
      "cell_type": "markdown",
      "id": "zrzvY-s6-Hld",
      "metadata": {
        "id": "zrzvY-s6-Hld"
      },
      "source": [
        "-Customer Segmentation for Electric Vehicles:\n",
        "Objective: Segment electric vehicle customers based on demographic features to tailor marketing strategies and services.\n",
        "we can use the model year,the range, type of vehicule,make (brand) ,"
      ]
    },
    {
      "cell_type": "code",
      "execution_count": null,
      "id": "pLXtCaKxS8FF",
      "metadata": {
        "colab": {
          "base_uri": "https://localhost:8080/",
          "height": 746
        },
        "id": "pLXtCaKxS8FF",
        "outputId": "9a818b81-3f79-44f0-e28b-f44d175b936a"
      },
      "outputs": [],
      "source": [
        "import numpy as np\n",
        "#data normalised :\n",
        "import csv\n",
        "\n",
        "# Load the data using np.genfromtxt\n",
        "data = np.genfromtxt('Data/Electric_Vehicle_Population_Data3.csv', delimiter=';', dtype=str, skip_header=1)\n",
        "\n",
        "# Extracting relevant columns\n",
        "year2 = data[:, 5]\n",
        "electric_range2 = data[:, 10]\n",
        "vehicle_type2 = data[:, 8]\n",
        "brand2 = data[:, 6] #.astype(float)\n",
        "\n",
        "\n",
        "# Combine extracted features into a feature matrix\n",
        "features2 = np.column_stack((year2,brand2, vehicle_type2, electric_range2))\n",
        "print(\"features\")\n",
        "print(features)\n",
        "\n",
        "# Extract the unique brands and their counts\n",
        "unique_brands, brand_counts = np.unique(brand2, return_counts=True)\n",
        "\n",
        "# Plotting a bar diagram for brand counts\n",
        "plt.figure(figsize=(10, 6))\n",
        "plt.bar(unique_brands, brand_counts, color='skyblue')\n",
        "plt.xlabel('Brands')\n",
        "plt.ylabel('Number of Vehicles')\n",
        "plt.title('Number of Vehicles per Brand')\n",
        "plt.xticks(rotation=90)  # Rotate x-axis labels for better readability\n",
        "plt.tight_layout()\n",
        "plt.show()\n",
        "\n",
        "\n"
      ]
    }
  ],
  "metadata": {
    "colab": {
      "provenance": []
    },
    "kernelspec": {
      "display_name": "Python 3 (ipykernel)",
      "language": "python",
      "name": "python3"
    },
    "language_info": {
      "codemirror_mode": {
        "name": "ipython",
        "version": 3
      },
      "file_extension": ".py",
      "mimetype": "text/x-python",
      "name": "python",
      "nbconvert_exporter": "python",
      "pygments_lexer": "ipython3",
      "version": "3.11.7"
    }
  },
  "nbformat": 4,
  "nbformat_minor": 5
}
